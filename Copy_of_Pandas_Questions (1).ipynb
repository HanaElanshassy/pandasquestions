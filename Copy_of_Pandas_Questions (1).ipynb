{
  "nbformat": 4,
  "nbformat_minor": 0,
  "metadata": {
    "colab": {
      "provenance": []
    },
    "kernelspec": {
      "name": "python3",
      "display_name": "Python 3"
    },
    "language_info": {
      "name": "python"
    }
  },
  "cells": [
    {
      "cell_type": "markdown",
      "source": [
        "# 🐼 Pandas Practice: DataFrames, Selection, Mapping, and More\n"
      ],
      "metadata": {
        "id": "ePeg5X6c1i76"
      }
    },
    {
      "cell_type": "code",
      "source": [
        "import pandas as pd\n",
        "import numpy as np\n",
        "\n",
        "# Set seed for reproducibility\n",
        "np.random.seed(42)\n",
        "\n",
        "# Sample data\n",
        "names = ['Alice', 'Bob', 'Charlie', 'Diana', 'Ethan', 'Fiona', 'George', 'Hannah']\n",
        "departments = ['Sales', 'Marketing', 'HR', 'Tech']\n",
        "\n",
        "# Create a DataFrame\n",
        "df = pd.DataFrame({\n",
        "    'Name': np.random.choice(names, size=20),\n",
        "    'Age': np.random.randint(22, 60, size=20),\n",
        "    'Department': np.random.choice(departments, size=20),\n",
        "    'Salary': np.random.randint(40000, 120000, size=20),\n",
        "    'YearsExperience': np.random.randint(0, 20, size=20)\n",
        "})\n",
        "df.head()"
      ],
      "metadata": {
        "id": "OTuYqCvk15t6",
        "colab": {
          "base_uri": "https://localhost:8080/",
          "height": 206
        },
        "outputId": "e9a201dd-ec32-492a-bcb9-3690c06f1bf4"
      },
      "execution_count": 32,
      "outputs": [
        {
          "output_type": "execute_result",
          "data": {
            "text/plain": [
              "      Name  Age Department  Salary  YearsExperience\n",
              "0   George   43         HR   75920               15\n",
              "1    Diana   23  Marketing  107121               12\n",
              "2    Ethan   45       Tech  109479               17\n",
              "3   George   51      Sales   59457               14\n",
              "4  Charlie   59       Tech  106557               12"
            ],
            "text/html": [
              "\n",
              "  <div id=\"df-41d6fc6a-5c88-4248-b3ce-05a5157e5c6d\" class=\"colab-df-container\">\n",
              "    <div>\n",
              "<style scoped>\n",
              "    .dataframe tbody tr th:only-of-type {\n",
              "        vertical-align: middle;\n",
              "    }\n",
              "\n",
              "    .dataframe tbody tr th {\n",
              "        vertical-align: top;\n",
              "    }\n",
              "\n",
              "    .dataframe thead th {\n",
              "        text-align: right;\n",
              "    }\n",
              "</style>\n",
              "<table border=\"1\" class=\"dataframe\">\n",
              "  <thead>\n",
              "    <tr style=\"text-align: right;\">\n",
              "      <th></th>\n",
              "      <th>Name</th>\n",
              "      <th>Age</th>\n",
              "      <th>Department</th>\n",
              "      <th>Salary</th>\n",
              "      <th>YearsExperience</th>\n",
              "    </tr>\n",
              "  </thead>\n",
              "  <tbody>\n",
              "    <tr>\n",
              "      <th>0</th>\n",
              "      <td>George</td>\n",
              "      <td>43</td>\n",
              "      <td>HR</td>\n",
              "      <td>75920</td>\n",
              "      <td>15</td>\n",
              "    </tr>\n",
              "    <tr>\n",
              "      <th>1</th>\n",
              "      <td>Diana</td>\n",
              "      <td>23</td>\n",
              "      <td>Marketing</td>\n",
              "      <td>107121</td>\n",
              "      <td>12</td>\n",
              "    </tr>\n",
              "    <tr>\n",
              "      <th>2</th>\n",
              "      <td>Ethan</td>\n",
              "      <td>45</td>\n",
              "      <td>Tech</td>\n",
              "      <td>109479</td>\n",
              "      <td>17</td>\n",
              "    </tr>\n",
              "    <tr>\n",
              "      <th>3</th>\n",
              "      <td>George</td>\n",
              "      <td>51</td>\n",
              "      <td>Sales</td>\n",
              "      <td>59457</td>\n",
              "      <td>14</td>\n",
              "    </tr>\n",
              "    <tr>\n",
              "      <th>4</th>\n",
              "      <td>Charlie</td>\n",
              "      <td>59</td>\n",
              "      <td>Tech</td>\n",
              "      <td>106557</td>\n",
              "      <td>12</td>\n",
              "    </tr>\n",
              "  </tbody>\n",
              "</table>\n",
              "</div>\n",
              "    <div class=\"colab-df-buttons\">\n",
              "\n",
              "  <div class=\"colab-df-container\">\n",
              "    <button class=\"colab-df-convert\" onclick=\"convertToInteractive('df-41d6fc6a-5c88-4248-b3ce-05a5157e5c6d')\"\n",
              "            title=\"Convert this dataframe to an interactive table.\"\n",
              "            style=\"display:none;\">\n",
              "\n",
              "  <svg xmlns=\"http://www.w3.org/2000/svg\" height=\"24px\" viewBox=\"0 -960 960 960\">\n",
              "    <path d=\"M120-120v-720h720v720H120Zm60-500h600v-160H180v160Zm220 220h160v-160H400v160Zm0 220h160v-160H400v160ZM180-400h160v-160H180v160Zm440 0h160v-160H620v160ZM180-180h160v-160H180v160Zm440 0h160v-160H620v160Z\"/>\n",
              "  </svg>\n",
              "    </button>\n",
              "\n",
              "  <style>\n",
              "    .colab-df-container {\n",
              "      display:flex;\n",
              "      gap: 12px;\n",
              "    }\n",
              "\n",
              "    .colab-df-convert {\n",
              "      background-color: #E8F0FE;\n",
              "      border: none;\n",
              "      border-radius: 50%;\n",
              "      cursor: pointer;\n",
              "      display: none;\n",
              "      fill: #1967D2;\n",
              "      height: 32px;\n",
              "      padding: 0 0 0 0;\n",
              "      width: 32px;\n",
              "    }\n",
              "\n",
              "    .colab-df-convert:hover {\n",
              "      background-color: #E2EBFA;\n",
              "      box-shadow: 0px 1px 2px rgba(60, 64, 67, 0.3), 0px 1px 3px 1px rgba(60, 64, 67, 0.15);\n",
              "      fill: #174EA6;\n",
              "    }\n",
              "\n",
              "    .colab-df-buttons div {\n",
              "      margin-bottom: 4px;\n",
              "    }\n",
              "\n",
              "    [theme=dark] .colab-df-convert {\n",
              "      background-color: #3B4455;\n",
              "      fill: #D2E3FC;\n",
              "    }\n",
              "\n",
              "    [theme=dark] .colab-df-convert:hover {\n",
              "      background-color: #434B5C;\n",
              "      box-shadow: 0px 1px 3px 1px rgba(0, 0, 0, 0.15);\n",
              "      filter: drop-shadow(0px 1px 2px rgba(0, 0, 0, 0.3));\n",
              "      fill: #FFFFFF;\n",
              "    }\n",
              "  </style>\n",
              "\n",
              "    <script>\n",
              "      const buttonEl =\n",
              "        document.querySelector('#df-41d6fc6a-5c88-4248-b3ce-05a5157e5c6d button.colab-df-convert');\n",
              "      buttonEl.style.display =\n",
              "        google.colab.kernel.accessAllowed ? 'block' : 'none';\n",
              "\n",
              "      async function convertToInteractive(key) {\n",
              "        const element = document.querySelector('#df-41d6fc6a-5c88-4248-b3ce-05a5157e5c6d');\n",
              "        const dataTable =\n",
              "          await google.colab.kernel.invokeFunction('convertToInteractive',\n",
              "                                                    [key], {});\n",
              "        if (!dataTable) return;\n",
              "\n",
              "        const docLinkHtml = 'Like what you see? Visit the ' +\n",
              "          '<a target=\"_blank\" href=https://colab.research.google.com/notebooks/data_table.ipynb>data table notebook</a>'\n",
              "          + ' to learn more about interactive tables.';\n",
              "        element.innerHTML = '';\n",
              "        dataTable['output_type'] = 'display_data';\n",
              "        await google.colab.output.renderOutput(dataTable, element);\n",
              "        const docLink = document.createElement('div');\n",
              "        docLink.innerHTML = docLinkHtml;\n",
              "        element.appendChild(docLink);\n",
              "      }\n",
              "    </script>\n",
              "  </div>\n",
              "\n",
              "\n",
              "    <div id=\"df-cd5f045c-e181-4fa5-8868-0174211847d7\">\n",
              "      <button class=\"colab-df-quickchart\" onclick=\"quickchart('df-cd5f045c-e181-4fa5-8868-0174211847d7')\"\n",
              "                title=\"Suggest charts\"\n",
              "                style=\"display:none;\">\n",
              "\n",
              "<svg xmlns=\"http://www.w3.org/2000/svg\" height=\"24px\"viewBox=\"0 0 24 24\"\n",
              "     width=\"24px\">\n",
              "    <g>\n",
              "        <path d=\"M19 3H5c-1.1 0-2 .9-2 2v14c0 1.1.9 2 2 2h14c1.1 0 2-.9 2-2V5c0-1.1-.9-2-2-2zM9 17H7v-7h2v7zm4 0h-2V7h2v10zm4 0h-2v-4h2v4z\"/>\n",
              "    </g>\n",
              "</svg>\n",
              "      </button>\n",
              "\n",
              "<style>\n",
              "  .colab-df-quickchart {\n",
              "      --bg-color: #E8F0FE;\n",
              "      --fill-color: #1967D2;\n",
              "      --hover-bg-color: #E2EBFA;\n",
              "      --hover-fill-color: #174EA6;\n",
              "      --disabled-fill-color: #AAA;\n",
              "      --disabled-bg-color: #DDD;\n",
              "  }\n",
              "\n",
              "  [theme=dark] .colab-df-quickchart {\n",
              "      --bg-color: #3B4455;\n",
              "      --fill-color: #D2E3FC;\n",
              "      --hover-bg-color: #434B5C;\n",
              "      --hover-fill-color: #FFFFFF;\n",
              "      --disabled-bg-color: #3B4455;\n",
              "      --disabled-fill-color: #666;\n",
              "  }\n",
              "\n",
              "  .colab-df-quickchart {\n",
              "    background-color: var(--bg-color);\n",
              "    border: none;\n",
              "    border-radius: 50%;\n",
              "    cursor: pointer;\n",
              "    display: none;\n",
              "    fill: var(--fill-color);\n",
              "    height: 32px;\n",
              "    padding: 0;\n",
              "    width: 32px;\n",
              "  }\n",
              "\n",
              "  .colab-df-quickchart:hover {\n",
              "    background-color: var(--hover-bg-color);\n",
              "    box-shadow: 0 1px 2px rgba(60, 64, 67, 0.3), 0 1px 3px 1px rgba(60, 64, 67, 0.15);\n",
              "    fill: var(--button-hover-fill-color);\n",
              "  }\n",
              "\n",
              "  .colab-df-quickchart-complete:disabled,\n",
              "  .colab-df-quickchart-complete:disabled:hover {\n",
              "    background-color: var(--disabled-bg-color);\n",
              "    fill: var(--disabled-fill-color);\n",
              "    box-shadow: none;\n",
              "  }\n",
              "\n",
              "  .colab-df-spinner {\n",
              "    border: 2px solid var(--fill-color);\n",
              "    border-color: transparent;\n",
              "    border-bottom-color: var(--fill-color);\n",
              "    animation:\n",
              "      spin 1s steps(1) infinite;\n",
              "  }\n",
              "\n",
              "  @keyframes spin {\n",
              "    0% {\n",
              "      border-color: transparent;\n",
              "      border-bottom-color: var(--fill-color);\n",
              "      border-left-color: var(--fill-color);\n",
              "    }\n",
              "    20% {\n",
              "      border-color: transparent;\n",
              "      border-left-color: var(--fill-color);\n",
              "      border-top-color: var(--fill-color);\n",
              "    }\n",
              "    30% {\n",
              "      border-color: transparent;\n",
              "      border-left-color: var(--fill-color);\n",
              "      border-top-color: var(--fill-color);\n",
              "      border-right-color: var(--fill-color);\n",
              "    }\n",
              "    40% {\n",
              "      border-color: transparent;\n",
              "      border-right-color: var(--fill-color);\n",
              "      border-top-color: var(--fill-color);\n",
              "    }\n",
              "    60% {\n",
              "      border-color: transparent;\n",
              "      border-right-color: var(--fill-color);\n",
              "    }\n",
              "    80% {\n",
              "      border-color: transparent;\n",
              "      border-right-color: var(--fill-color);\n",
              "      border-bottom-color: var(--fill-color);\n",
              "    }\n",
              "    90% {\n",
              "      border-color: transparent;\n",
              "      border-bottom-color: var(--fill-color);\n",
              "    }\n",
              "  }\n",
              "</style>\n",
              "\n",
              "      <script>\n",
              "        async function quickchart(key) {\n",
              "          const quickchartButtonEl =\n",
              "            document.querySelector('#' + key + ' button');\n",
              "          quickchartButtonEl.disabled = true;  // To prevent multiple clicks.\n",
              "          quickchartButtonEl.classList.add('colab-df-spinner');\n",
              "          try {\n",
              "            const charts = await google.colab.kernel.invokeFunction(\n",
              "                'suggestCharts', [key], {});\n",
              "          } catch (error) {\n",
              "            console.error('Error during call to suggestCharts:', error);\n",
              "          }\n",
              "          quickchartButtonEl.classList.remove('colab-df-spinner');\n",
              "          quickchartButtonEl.classList.add('colab-df-quickchart-complete');\n",
              "        }\n",
              "        (() => {\n",
              "          let quickchartButtonEl =\n",
              "            document.querySelector('#df-cd5f045c-e181-4fa5-8868-0174211847d7 button');\n",
              "          quickchartButtonEl.style.display =\n",
              "            google.colab.kernel.accessAllowed ? 'block' : 'none';\n",
              "        })();\n",
              "      </script>\n",
              "    </div>\n",
              "\n",
              "    </div>\n",
              "  </div>\n"
            ],
            "application/vnd.google.colaboratory.intrinsic+json": {
              "type": "dataframe",
              "variable_name": "df",
              "summary": "{\n  \"name\": \"df\",\n  \"rows\": 20,\n  \"fields\": [\n    {\n      \"column\": \"Name\",\n      \"properties\": {\n        \"dtype\": \"category\",\n        \"num_unique_values\": 6,\n        \"samples\": [\n          \"George\",\n          \"Diana\",\n          \"Bob\"\n        ],\n        \"semantic_type\": \"\",\n        \"description\": \"\"\n      }\n    },\n    {\n      \"column\": \"Age\",\n      \"properties\": {\n        \"dtype\": \"number\",\n        \"std\": 11,\n        \"min\": 23,\n        \"max\": 59,\n        \"num_unique_values\": 17,\n        \"samples\": [\n          43,\n          23,\n          42\n        ],\n        \"semantic_type\": \"\",\n        \"description\": \"\"\n      }\n    },\n    {\n      \"column\": \"Department\",\n      \"properties\": {\n        \"dtype\": \"category\",\n        \"num_unique_values\": 4,\n        \"samples\": [\n          \"Marketing\",\n          \"Sales\",\n          \"HR\"\n        ],\n        \"semantic_type\": \"\",\n        \"description\": \"\"\n      }\n    },\n    {\n      \"column\": \"Salary\",\n      \"properties\": {\n        \"dtype\": \"number\",\n        \"std\": 24001,\n        \"min\": 41016,\n        \"max\": 118953,\n        \"num_unique_values\": 20,\n        \"samples\": [\n          75920,\n          80397,\n          72606\n        ],\n        \"semantic_type\": \"\",\n        \"description\": \"\"\n      }\n    },\n    {\n      \"column\": \"YearsExperience\",\n      \"properties\": {\n        \"dtype\": \"number\",\n        \"std\": 5,\n        \"min\": 0,\n        \"max\": 18,\n        \"num_unique_values\": 13,\n        \"samples\": [\n          16,\n          10,\n          15\n        ],\n        \"semantic_type\": \"\",\n        \"description\": \"\"\n      }\n    }\n  ]\n}"
            }
          },
          "metadata": {},
          "execution_count": 32
        }
      ]
    },
    {
      "cell_type": "markdown",
      "source": [
        "# 🧪 PRACTICE QUESTIONS BELOW\n",
        "\n",
        "\n",
        "# 1️⃣ Use .loc to select all rows where the Department is 'Tech'.\n",
        "#    - Describe what .loc does and why it's useful for label-based filtering.\n"
      ],
      "metadata": {
        "id": "COOLrDWX14rD"
      }
    },
    {
      "cell_type": "code",
      "source": [
        "tech_employees = df.loc[df['Department'] == 'Tech']\n",
        "print(tech_employees)\n",
        "#.loc is a label-based indexer in Pandas. It allows you to access specific rows and columns from a DataFrame using labels and supports powerful conditional filtering for data analysis.\n",
        "#.loc is useful for Label-Based Filtering because it is intuitive and readable as you can filter data using meaningful labels like column names and values that makes your code easier to understand.\n",
        "# and it has Flexible Filtering You can combine multiple conditions to accesss what you want"
      ],
      "metadata": {
        "id": "xIuTOcDb2ebZ",
        "colab": {
          "base_uri": "https://localhost:8080/"
        },
        "outputId": "08b02849-778c-4eb5-e071-2e86ae611979"
      },
      "execution_count": 23,
      "outputs": [
        {
          "output_type": "stream",
          "name": "stdout",
          "text": [
            "       Name  Age Department  Salary  YearsExperience\n",
            "2     Ethan   45       Tech  109479               17\n",
            "4   Charlie   59       Tech  106557               12\n",
            "12  Charlie   49       Tech  111211               11\n",
            "13  Charlie   37       Tech  105697                7\n",
            "15    Ethan   24       Tech   72606               18\n",
            "17   Hannah   28       Tech   80397                7\n",
            "19  Charlie   30       Tech   95591                2\n"
          ]
        }
      ]
    },
    {
      "cell_type": "markdown",
      "source": [
        "\n",
        "# 2️⃣ Use .iloc to select the first 5 rows and the last two columns.\n",
        "#    - What is the difference between .loc and .iloc?\n"
      ],
      "metadata": {
        "id": "RmHzXmu318u0"
      }
    },
    {
      "cell_type": "code",
      "source": [
        "selected_data = df.iloc[:5, -2:]\n",
        "print(selected_data)\n",
        "#.loc and .iloc are both used for indexing and selecting data in Pandas DataFrames\n",
        "\n",
        "# .loc uses label-based indexing you refer to rows and columns by their labels (names).\n",
        "# .iloc uses integer-based indexing you refer to rows and columns by their integer position (index)."
      ],
      "metadata": {
        "id": "3ahySeue2fCn",
        "colab": {
          "base_uri": "https://localhost:8080/"
        },
        "outputId": "d2d27813-9ae0-4c56-80d2-8c900bd66d77"
      },
      "execution_count": 24,
      "outputs": [
        {
          "output_type": "stream",
          "name": "stdout",
          "text": [
            "   Salary  YearsExperience\n",
            "0   75920               15\n",
            "1  107121               12\n",
            "2  109479               17\n",
            "3   59457               14\n",
            "4  106557               12\n"
          ]
        }
      ]
    },
    {
      "cell_type": "markdown",
      "source": [
        "bold text\n",
        "# 3️⃣ Map a new column called 'DeptCode' where:\n",
        "#     'Sales' -> 1, 'Marketing' -> 2, 'HR' -> 3, 'Tech' -> 4.\n",
        "#    - Use .map and explain what happens if a value is not mapped.\n"
      ],
      "metadata": {
        "id": "36156bFO198O"
      }
    },
    {
      "cell_type": "code",
      "source": [
        "dept_mapping = {\n",
        "    'Sales': 1,\n",
        "    'Marketing': 2,\n",
        "    'HR': 3,\n",
        "    'Tech': 4\n",
        "}\n",
        "\n",
        "df['DeptCode'] = df['Department'].map(dept_mapping)\n",
        "\n",
        "print(df.head())\n",
        "#.map() assigns NaN (a missing value) to that row in the 'DeptCode' column."
      ],
      "metadata": {
        "id": "vGfO663F2gEV",
        "colab": {
          "base_uri": "https://localhost:8080/"
        },
        "outputId": "b3282a83-d728-4623-944a-bf778f0176c7"
      },
      "execution_count": 25,
      "outputs": [
        {
          "output_type": "stream",
          "name": "stdout",
          "text": [
            "      Name  Age Department  Salary  YearsExperience  DeptCode\n",
            "0   George   43         HR   75920               15         3\n",
            "1    Diana   23  Marketing  107121               12         2\n",
            "2    Ethan   45       Tech  109479               17         4\n",
            "3   George   51      Sales   59457               14         1\n",
            "4  Charlie   59       Tech  106557               12         4\n"
          ]
        }
      ]
    },
    {
      "cell_type": "markdown",
      "source": [
        "\n",
        "# 4️⃣ Use .apply to calculate a new column 'Seniority' where:\n",
        "#     - If YearsExperience > 10 → 'Senior'\n",
        "#     - If between 5-10 → 'Mid-Level'\n",
        "#     - Else → 'Junior'\n",
        "#    - Use a lambda function with apply.\n"
      ],
      "metadata": {
        "id": "F4UBD8S-1_ds"
      }
    },
    {
      "cell_type": "code",
      "source": [
        "df['Seniority'] = df['YearsExperience'].apply(\n",
        "    lambda x: 'Senior' if x > 10 else ('Mid-Level' if x >= 5 else 'Junior')\n",
        ")\n",
        "\n",
        "print(df)\n"
      ],
      "metadata": {
        "id": "PC6O6UWa2gq5",
        "colab": {
          "base_uri": "https://localhost:8080/"
        },
        "outputId": "078fcce9-519a-40b5-c333-647222b2f196"
      },
      "execution_count": 26,
      "outputs": [
        {
          "output_type": "stream",
          "name": "stdout",
          "text": [
            "       Name  Age Department  Salary  YearsExperience  DeptCode  Seniority\n",
            "0    George   43         HR   75920               15         3     Senior\n",
            "1     Diana   23  Marketing  107121               12         2     Senior\n",
            "2     Ethan   45       Tech  109479               17         4     Senior\n",
            "3    George   51      Sales   59457               14         1     Senior\n",
            "4   Charlie   59       Tech  106557               12         4     Senior\n",
            "5    Hannah   23  Marketing  117189                8         2  Mid-Level\n",
            "6     Ethan   42  Marketing  118953               14         2     Senior\n",
            "7     Ethan   54  Marketing   92995               12         2     Senior\n",
            "8    George   33      Sales   80757                0         1     Junior\n",
            "9       Bob   43  Marketing   49692                6         2  Mid-Level\n",
            "10  Charlie   46      Sales   85758                8         1  Mid-Level\n",
            "11   George   48  Marketing  112409                0         2     Junior\n",
            "12  Charlie   49       Tech  111211               11         4     Senior\n",
            "13  Charlie   37       Tech  105697                7         4  Mid-Level\n",
            "14   Hannah   36         HR   77065               10         3  Mid-Level\n",
            "15    Ethan   24       Tech   72606               18         4     Senior\n",
            "16    Diana   58         HR   51534               16         3     Senior\n",
            "17   Hannah   28       Tech   80397                7         4  Mid-Level\n",
            "18   Hannah   42      Sales   41016                2         1     Junior\n",
            "19  Charlie   30       Tech   95591                2         4     Junior\n"
          ]
        }
      ]
    },
    {
      "cell_type": "markdown",
      "source": [
        "\n",
        "# 5️⃣ Overwrite all salaries for employees with < 3 years of experience to 35000.\n",
        "#    - Use boolean indexing with .loc to do this.\n"
      ],
      "metadata": {
        "id": "9IsCMyfi2BkI"
      }
    },
    {
      "cell_type": "code",
      "source": [
        "df.loc[df['YearsExperience'] < 3, 'Salary'] = 35000\n",
        "print(df)"
      ],
      "metadata": {
        "id": "U96LSSlv2h04",
        "colab": {
          "base_uri": "https://localhost:8080/"
        },
        "outputId": "7cd67a82-7215-4290-8b02-8cb13e81ee03"
      },
      "execution_count": 27,
      "outputs": [
        {
          "output_type": "stream",
          "name": "stdout",
          "text": [
            "       Name  Age Department  Salary  YearsExperience  DeptCode  Seniority\n",
            "0    George   43         HR   75920               15         3     Senior\n",
            "1     Diana   23  Marketing  107121               12         2     Senior\n",
            "2     Ethan   45       Tech  109479               17         4     Senior\n",
            "3    George   51      Sales   59457               14         1     Senior\n",
            "4   Charlie   59       Tech  106557               12         4     Senior\n",
            "5    Hannah   23  Marketing  117189                8         2  Mid-Level\n",
            "6     Ethan   42  Marketing  118953               14         2     Senior\n",
            "7     Ethan   54  Marketing   92995               12         2     Senior\n",
            "8    George   33      Sales   35000                0         1     Junior\n",
            "9       Bob   43  Marketing   49692                6         2  Mid-Level\n",
            "10  Charlie   46      Sales   85758                8         1  Mid-Level\n",
            "11   George   48  Marketing   35000                0         2     Junior\n",
            "12  Charlie   49       Tech  111211               11         4     Senior\n",
            "13  Charlie   37       Tech  105697                7         4  Mid-Level\n",
            "14   Hannah   36         HR   77065               10         3  Mid-Level\n",
            "15    Ethan   24       Tech   72606               18         4     Senior\n",
            "16    Diana   58         HR   51534               16         3     Senior\n",
            "17   Hannah   28       Tech   80397                7         4  Mid-Level\n",
            "18   Hannah   42      Sales   35000                2         1     Junior\n",
            "19  Charlie   30       Tech   35000                2         4     Junior\n"
          ]
        }
      ]
    },
    {
      "cell_type": "markdown",
      "source": [
        "\n",
        "# 6️⃣ Compare using .loc and .iloc to select the same row:\n",
        "#    - Select the 3rd row using .iloc\n",
        "#    - Find its index value and use .loc to select the same row by label\n"
      ],
      "metadata": {
        "id": "xmIKaXDH2CwE"
      }
    },
    {
      "cell_type": "code",
      "source": [
        "row_iloc = df.iloc[2]\n",
        "print(row_iloc)\n",
        "index_label = df.index[2]\n",
        "row_loc = df.loc[index_label]\n",
        "print(row_loc)"
      ],
      "metadata": {
        "id": "7Y4VrlBn2igs",
        "colab": {
          "base_uri": "https://localhost:8080/"
        },
        "outputId": "dec5db43-c01a-418a-b963-c40a2e58c179"
      },
      "execution_count": 28,
      "outputs": [
        {
          "output_type": "stream",
          "name": "stdout",
          "text": [
            "Name                Ethan\n",
            "Age                    45\n",
            "Department           Tech\n",
            "Salary             109479\n",
            "YearsExperience        17\n",
            "DeptCode                4\n",
            "Seniority          Senior\n",
            "Name: 2, dtype: object\n",
            "Name                Ethan\n",
            "Age                    45\n",
            "Department           Tech\n",
            "Salary             109479\n",
            "YearsExperience        17\n",
            "DeptCode                4\n",
            "Seniority          Senior\n",
            "Name: 2, dtype: object\n"
          ]
        }
      ]
    },
    {
      "cell_type": "markdown",
      "source": [
        "\n",
        "# 7️⃣ Check if there are any duplicate names in the dataset.\n",
        "#    - If there are, show only those duplicated rows.\n"
      ],
      "metadata": {
        "id": "lVu_9fuR2EoF"
      }
    },
    {
      "cell_type": "code",
      "source": [
        "duplicate_names = df[df.duplicated('Name', keep=False)]\n",
        "print(duplicate_names)"
      ],
      "metadata": {
        "id": "1q6SQHhH2jMu",
        "colab": {
          "base_uri": "https://localhost:8080/"
        },
        "outputId": "714d6ee3-b969-4e69-9222-a9ae6d1b373d"
      },
      "execution_count": 29,
      "outputs": [
        {
          "output_type": "stream",
          "name": "stdout",
          "text": [
            "       Name  Age Department  Salary  YearsExperience  DeptCode  Seniority\n",
            "0    George   43         HR   75920               15         3     Senior\n",
            "1     Diana   23  Marketing  107121               12         2     Senior\n",
            "2     Ethan   45       Tech  109479               17         4     Senior\n",
            "3    George   51      Sales   59457               14         1     Senior\n",
            "4   Charlie   59       Tech  106557               12         4     Senior\n",
            "5    Hannah   23  Marketing  117189                8         2  Mid-Level\n",
            "6     Ethan   42  Marketing  118953               14         2     Senior\n",
            "7     Ethan   54  Marketing   92995               12         2     Senior\n",
            "8    George   33      Sales   35000                0         1     Junior\n",
            "10  Charlie   46      Sales   85758                8         1  Mid-Level\n",
            "11   George   48  Marketing   35000                0         2     Junior\n",
            "12  Charlie   49       Tech  111211               11         4     Senior\n",
            "13  Charlie   37       Tech  105697                7         4  Mid-Level\n",
            "14   Hannah   36         HR   77065               10         3  Mid-Level\n",
            "15    Ethan   24       Tech   72606               18         4     Senior\n",
            "16    Diana   58         HR   51534               16         3     Senior\n",
            "17   Hannah   28       Tech   80397                7         4  Mid-Level\n",
            "18   Hannah   42      Sales   35000                2         1     Junior\n",
            "19  Charlie   30       Tech   35000                2         4     Junior\n"
          ]
        }
      ]
    },
    {
      "cell_type": "markdown",
      "source": [
        "\n",
        "# 8️⃣ Sort the DataFrame by Salary in descending order.\n",
        "#    - Then sort it by Department and within Department by Age.\n"
      ],
      "metadata": {
        "id": "1zeHaO1p2Gy2"
      }
    },
    {
      "cell_type": "code",
      "source": [
        "sorted_by_salary = df.sort_values(by='Salary', ascending=False)\n",
        "print(\"Sorted by Salary (Descending):\")\n",
        "print(sorted_by_salary)\n",
        "sorted_by_dept_age = df.sort_values(by=['Department', 'Age'])\n",
        "print(\"\\nSorted by Department and Age:\")\n",
        "print(sorted_by_dept_age)\n"
      ],
      "metadata": {
        "id": "MatI2IZe2j-z",
        "colab": {
          "base_uri": "https://localhost:8080/"
        },
        "outputId": "746920a6-dfb1-4809-fe23-d75e34c831ab"
      },
      "execution_count": 33,
      "outputs": [
        {
          "output_type": "stream",
          "name": "stdout",
          "text": [
            "Sorted by Salary (Descending):\n",
            "       Name  Age Department  Salary  YearsExperience\n",
            "6     Ethan   42  Marketing  118953               14\n",
            "5    Hannah   23  Marketing  117189                8\n",
            "11   George   48  Marketing  112409                0\n",
            "12  Charlie   49       Tech  111211               11\n",
            "2     Ethan   45       Tech  109479               17\n",
            "1     Diana   23  Marketing  107121               12\n",
            "4   Charlie   59       Tech  106557               12\n",
            "13  Charlie   37       Tech  105697                7\n",
            "19  Charlie   30       Tech   95591                2\n",
            "7     Ethan   54  Marketing   92995               12\n",
            "10  Charlie   46      Sales   85758                8\n",
            "8    George   33      Sales   80757                0\n",
            "17   Hannah   28       Tech   80397                7\n",
            "14   Hannah   36         HR   77065               10\n",
            "0    George   43         HR   75920               15\n",
            "15    Ethan   24       Tech   72606               18\n",
            "3    George   51      Sales   59457               14\n",
            "16    Diana   58         HR   51534               16\n",
            "9       Bob   43  Marketing   49692                6\n",
            "18   Hannah   42      Sales   41016                2\n",
            "\n",
            "Sorted by Department and Age:\n",
            "       Name  Age Department  Salary  YearsExperience\n",
            "14   Hannah   36         HR   77065               10\n",
            "0    George   43         HR   75920               15\n",
            "16    Diana   58         HR   51534               16\n",
            "1     Diana   23  Marketing  107121               12\n",
            "5    Hannah   23  Marketing  117189                8\n",
            "6     Ethan   42  Marketing  118953               14\n",
            "9       Bob   43  Marketing   49692                6\n",
            "11   George   48  Marketing  112409                0\n",
            "7     Ethan   54  Marketing   92995               12\n",
            "8    George   33      Sales   80757                0\n",
            "18   Hannah   42      Sales   41016                2\n",
            "10  Charlie   46      Sales   85758                8\n",
            "3    George   51      Sales   59457               14\n",
            "15    Ethan   24       Tech   72606               18\n",
            "17   Hannah   28       Tech   80397                7\n",
            "19  Charlie   30       Tech   95591                2\n",
            "13  Charlie   37       Tech  105697                7\n",
            "2     Ethan   45       Tech  109479               17\n",
            "12  Charlie   49       Tech  111211               11\n",
            "4   Charlie   59       Tech  106557               12\n"
          ]
        }
      ]
    },
    {
      "cell_type": "markdown",
      "source": [
        "\n",
        "# 9️⃣ Slice the DataFrame to return rows 5 through 12 and columns 'Name', 'Salary'\n",
        "#    - Try slicing using both label-based and position-based methods.\n"
      ],
      "metadata": {
        "id": "HXwU6hTb2Ksv"
      }
    },
    {
      "cell_type": "code",
      "source": [
        "print(df.loc[5:12, ['Name', 'Salary']])\n",
        "print(df.iloc[5:13, [0, 3]])\n"
      ],
      "metadata": {
        "id": "wqOj-pOH2kmd",
        "colab": {
          "base_uri": "https://localhost:8080/"
        },
        "outputId": "52d8c601-ab5b-4394-cc19-7d63ca760c77"
      },
      "execution_count": 34,
      "outputs": [
        {
          "output_type": "stream",
          "name": "stdout",
          "text": [
            "       Name  Salary\n",
            "5    Hannah  117189\n",
            "6     Ethan  118953\n",
            "7     Ethan   92995\n",
            "8    George   80757\n",
            "9       Bob   49692\n",
            "10  Charlie   85758\n",
            "11   George  112409\n",
            "12  Charlie  111211\n",
            "       Name  Salary\n",
            "5    Hannah  117189\n",
            "6     Ethan  118953\n",
            "7     Ethan   92995\n",
            "8    George   80757\n",
            "9       Bob   49692\n",
            "10  Charlie   85758\n",
            "11   George  112409\n",
            "12  Charlie  111211\n"
          ]
        }
      ]
    },
    {
      "cell_type": "markdown",
      "source": [
        "\n",
        "# 🔟 Find all rows where the name starts with 'A' or 'D'.\n",
        "#    - Use string methods with .str accessor.\n"
      ],
      "metadata": {
        "id": "wF8r5U8G2MAq"
      }
    },
    {
      "cell_type": "code",
      "source": [
        "filtered_df = df[df['Name'].str.startswith(('A', 'D'))]\n",
        "\n",
        "print(filtered_df)"
      ],
      "metadata": {
        "id": "NYqLXs_e2lsl",
        "colab": {
          "base_uri": "https://localhost:8080/"
        },
        "outputId": "fa4c7d87-2645-4782-d00f-d19e8ee8c238"
      },
      "execution_count": 35,
      "outputs": [
        {
          "output_type": "stream",
          "name": "stdout",
          "text": [
            "     Name  Age Department  Salary  YearsExperience\n",
            "1   Diana   23  Marketing  107121               12\n",
            "16  Diana   58         HR   51534               16\n"
          ]
        }
      ]
    },
    {
      "cell_type": "markdown",
      "source": [
        "\n",
        "# 1️⃣1️⃣ Drop all rows where Age is below 25.\n",
        "#     - Explain whether this modifies the DataFrame in place or returns a copy.\n"
      ],
      "metadata": {
        "id": "Yd_SkvsI2Nvn"
      }
    },
    {
      "cell_type": "code",
      "source": [
        "\n",
        "df_filtered = df[df['Age'] >= 25]\n",
        "\n",
        "print(\"DataFrame with Age >= 25:\")\n",
        "print(df_filtered)\n",
        "#This returns a new copy of the DataFrame where all rows with Age < 25 are removed.\n",
        "\n",
        "#The original df is not modified unless you explicitly reassign it"
      ],
      "metadata": {
        "id": "EgrbPKED2ny5",
        "colab": {
          "base_uri": "https://localhost:8080/"
        },
        "outputId": "ff88c123-1208-4bae-e20e-5682b22f823a"
      },
      "execution_count": 36,
      "outputs": [
        {
          "output_type": "stream",
          "name": "stdout",
          "text": [
            "DataFrame with Age >= 25:\n",
            "       Name  Age Department  Salary  YearsExperience\n",
            "0    George   43         HR   75920               15\n",
            "2     Ethan   45       Tech  109479               17\n",
            "3    George   51      Sales   59457               14\n",
            "4   Charlie   59       Tech  106557               12\n",
            "6     Ethan   42  Marketing  118953               14\n",
            "7     Ethan   54  Marketing   92995               12\n",
            "8    George   33      Sales   80757                0\n",
            "9       Bob   43  Marketing   49692                6\n",
            "10  Charlie   46      Sales   85758                8\n",
            "11   George   48  Marketing  112409                0\n",
            "12  Charlie   49       Tech  111211               11\n",
            "13  Charlie   37       Tech  105697                7\n",
            "14   Hannah   36         HR   77065               10\n",
            "16    Diana   58         HR   51534               16\n",
            "17   Hannah   28       Tech   80397                7\n",
            "18   Hannah   42      Sales   41016                2\n",
            "19  Charlie   30       Tech   95591                2\n"
          ]
        }
      ]
    },
    {
      "cell_type": "markdown",
      "source": [
        "\n",
        "# 1️⃣2️⃣ Use groupby to calculate the average salary per Department.\n",
        "#     - Bonus: Show the average age and average experience too.\n"
      ],
      "metadata": {
        "id": "bfp6LIa12PkV"
      }
    },
    {
      "cell_type": "code",
      "source": [
        "avg_salary_per_dept = df.groupby('Department')['Salary'].mean()\n",
        "\n",
        "print(\"Average Salary per Department:\")\n",
        "print(avg_salary_per_dept)"
      ],
      "metadata": {
        "id": "o6DWFvRw2onl",
        "colab": {
          "base_uri": "https://localhost:8080/"
        },
        "outputId": "67fa1a58-f4d0-47ef-b22f-f8aa63f4cbef"
      },
      "execution_count": 37,
      "outputs": [
        {
          "output_type": "stream",
          "name": "stdout",
          "text": [
            "Average Salary per Department:\n",
            "Department\n",
            "HR           68173.000000\n",
            "Marketing    99726.500000\n",
            "Sales        66747.000000\n",
            "Tech         97362.571429\n",
            "Name: Salary, dtype: float64\n"
          ]
        }
      ]
    },
    {
      "cell_type": "markdown",
      "source": [
        "\n",
        "# 1️⃣3️⃣ Use groupby to count how many employees are in each Department.\n"
      ],
      "metadata": {
        "id": "44jsni7P2Qqy"
      }
    },
    {
      "cell_type": "code",
      "source": [
        "employee_count = df.groupby('Department').size()\n",
        "\n",
        "print(\"Number of employees per Department:\")\n",
        "print(employee_count)"
      ],
      "metadata": {
        "id": "5EEXf1WK2pKX",
        "colab": {
          "base_uri": "https://localhost:8080/"
        },
        "outputId": "4db76b4f-b3fe-4616-daed-b2f057d21288"
      },
      "execution_count": 39,
      "outputs": [
        {
          "output_type": "stream",
          "name": "stdout",
          "text": [
            "Number of employees per Department:\n",
            "Department\n",
            "HR           3\n",
            "Marketing    6\n",
            "Sales        4\n",
            "Tech         7\n",
            "dtype: int64\n"
          ]
        }
      ]
    },
    {
      "cell_type": "markdown",
      "source": [
        "\n",
        "# 1️⃣4️⃣ Use .apply to normalize the Salary column (min-max scaling between 0 and 1).\n",
        "#     - Bonus: Write your own normalization function and pass it to apply.\n"
      ],
      "metadata": {
        "id": "9guz71AU2R0R"
      }
    },
    {
      "cell_type": "code",
      "source": [
        "df['NormalizedSalary'] = df['Salary'].apply(\n",
        "    lambda x: (x - df['Salary'].min()) / (df['Salary'].max() - df['Salary'].min())\n",
        ")\n",
        "print(df[['Name', 'Salary', 'NormalizedSalary']])"
      ],
      "metadata": {
        "id": "Dwh1lczW2qKa",
        "colab": {
          "base_uri": "https://localhost:8080/"
        },
        "outputId": "72b71ce5-8b40-4c41-c9bd-733d69381e61"
      },
      "execution_count": 38,
      "outputs": [
        {
          "output_type": "stream",
          "name": "stdout",
          "text": [
            "       Name  Salary  NormalizedSalary\n",
            "0    George   75920          0.447849\n",
            "1     Diana  107121          0.848185\n",
            "2     Ethan  109479          0.878440\n",
            "3    George   59457          0.236614\n",
            "4   Charlie  106557          0.840948\n",
            "5    Hannah  117189          0.977366\n",
            "6     Ethan  118953          1.000000\n",
            "7     Ethan   92995          0.666936\n",
            "8    George   80757          0.509912\n",
            "9       Bob   49692          0.111321\n",
            "10  Charlie   85758          0.574079\n",
            "11   George  112409          0.916035\n",
            "12  Charlie  111211          0.900663\n",
            "13  Charlie  105697          0.829914\n",
            "14   Hannah   77065          0.462540\n",
            "15    Ethan   72606          0.405327\n",
            "16    Diana   51534          0.134955\n",
            "17   Hannah   80397          0.505293\n",
            "18   Hannah   41016          0.000000\n",
            "19  Charlie   95591          0.700245\n"
          ]
        }
      ]
    },
    {
      "cell_type": "markdown",
      "source": [
        "\n",
        "# 1️⃣5️⃣ Use boolean indexing to find all employees who:\n",
        "#     - Are in 'HR' OR 'Tech', AND have > 5 years of experience.\n",
        "\n",
        "# 🔁 For many of these tasks, try both .loc and .iloc to build intuition on their differences.\n",
        "\n"
      ],
      "metadata": {
        "id": "r8GSudrV2VRt"
      }
    },
    {
      "cell_type": "code",
      "source": [
        "filtered_df = df[\n",
        "    ((df['Department'] == 'HR') | (df['Department'] == 'Tech')) &\n",
        "    (df['YearsExperience'] > 5)\n",
        "]\n",
        "print(filtered_df)"
      ],
      "metadata": {
        "id": "ClYGZE4C2rzJ",
        "colab": {
          "base_uri": "https://localhost:8080/"
        },
        "outputId": "3d55c51c-aeb5-4528-904e-f10d99c7aca8"
      },
      "execution_count": 41,
      "outputs": [
        {
          "output_type": "stream",
          "name": "stdout",
          "text": [
            "       Name  Age Department  Salary  YearsExperience  NormalizedSalary\n",
            "0    George   43         HR   75920               15          0.447849\n",
            "2     Ethan   45       Tech  109479               17          0.878440\n",
            "4   Charlie   59       Tech  106557               12          0.840948\n",
            "12  Charlie   49       Tech  111211               11          0.900663\n",
            "13  Charlie   37       Tech  105697                7          0.829914\n",
            "14   Hannah   36         HR   77065               10          0.462540\n",
            "15    Ethan   24       Tech   72606               18          0.405327\n",
            "16    Diana   58         HR   51534               16          0.134955\n",
            "17   Hannah   28       Tech   80397                7          0.505293\n"
          ]
        }
      ]
    }
  ]
}